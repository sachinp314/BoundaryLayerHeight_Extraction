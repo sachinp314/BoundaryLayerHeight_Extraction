{
 "cells": [
  {
   "cell_type": "code",
   "execution_count": 1,
   "metadata": {},
   "outputs": [],
   "source": [
    "import numpy as np\n",
    "import pandas as pd\n",
    "import netCDF4\n",
    "from netCDF4 import Dataset\n",
    "from netCDF4 import MFDataset\n",
    "import datetime\n",
    "from pathlib import Path\n",
    "import xarray as xr\n",
    "from datetime import datetime"
   ]
  },
  {
   "cell_type": "code",
   "execution_count": 2,
   "metadata": {},
   "outputs": [],
   "source": [
    "merra = xr.open_mfdataset('D:/Codes/IIA Project/Project Data/1.MERRA-2/*SUB.nc')"
   ]
  },
  {
   "cell_type": "code",
   "execution_count": 3,
   "metadata": {},
   "outputs": [],
   "source": [
    "merra = merra.to_dataframe()"
   ]
  },
  {
   "cell_type": "code",
   "execution_count": 4,
   "metadata": {},
   "outputs": [],
   "source": [
    "# Do merra.reset_index() to make lat, long and time as columns of the dataframe and change multiindex to single imndex"
   ]
  },
  {
   "cell_type": "code",
   "execution_count": 5,
   "metadata": {},
   "outputs": [],
   "source": [
    "merra = merra.reset_index()"
   ]
  },
  {
   "cell_type": "code",
   "execution_count": 6,
   "metadata": {},
   "outputs": [
    {
     "data": {
      "text/html": [
       "<div>\n",
       "<style scoped>\n",
       "    .dataframe tbody tr th:only-of-type {\n",
       "        vertical-align: middle;\n",
       "    }\n",
       "\n",
       "    .dataframe tbody tr th {\n",
       "        vertical-align: top;\n",
       "    }\n",
       "\n",
       "    .dataframe thead th {\n",
       "        text-align: right;\n",
       "    }\n",
       "</style>\n",
       "<table border=\"1\" class=\"dataframe\">\n",
       "  <thead>\n",
       "    <tr style=\"text-align: right;\">\n",
       "      <th></th>\n",
       "      <th>lat</th>\n",
       "      <th>lon</th>\n",
       "      <th>time</th>\n",
       "      <th>PBLH</th>\n",
       "    </tr>\n",
       "  </thead>\n",
       "  <tbody>\n",
       "    <tr>\n",
       "      <th>0</th>\n",
       "      <td>32.5</td>\n",
       "      <td>78.125</td>\n",
       "      <td>1980-01-01 00:30:00</td>\n",
       "      <td>632.503418</td>\n",
       "    </tr>\n",
       "    <tr>\n",
       "      <th>1</th>\n",
       "      <td>32.5</td>\n",
       "      <td>78.125</td>\n",
       "      <td>1980-01-01 01:30:00</td>\n",
       "      <td>1109.745239</td>\n",
       "    </tr>\n",
       "    <tr>\n",
       "      <th>2</th>\n",
       "      <td>32.5</td>\n",
       "      <td>78.125</td>\n",
       "      <td>1980-01-01 02:30:00</td>\n",
       "      <td>2237.738281</td>\n",
       "    </tr>\n",
       "    <tr>\n",
       "      <th>3</th>\n",
       "      <td>32.5</td>\n",
       "      <td>78.125</td>\n",
       "      <td>1980-01-01 03:30:00</td>\n",
       "      <td>2224.764893</td>\n",
       "    </tr>\n",
       "    <tr>\n",
       "      <th>4</th>\n",
       "      <td>32.5</td>\n",
       "      <td>78.125</td>\n",
       "      <td>1980-01-01 04:30:00</td>\n",
       "      <td>2078.818359</td>\n",
       "    </tr>\n",
       "  </tbody>\n",
       "</table>\n",
       "</div>"
      ],
      "text/plain": [
       "    lat     lon                time         PBLH\n",
       "0  32.5  78.125 1980-01-01 00:30:00   632.503418\n",
       "1  32.5  78.125 1980-01-01 01:30:00  1109.745239\n",
       "2  32.5  78.125 1980-01-01 02:30:00  2237.738281\n",
       "3  32.5  78.125 1980-01-01 03:30:00  2224.764893\n",
       "4  32.5  78.125 1980-01-01 04:30:00  2078.818359"
      ]
     },
     "execution_count": 6,
     "metadata": {},
     "output_type": "execute_result"
    }
   ],
   "source": [
    "merra.head(5)"
   ]
  },
  {
   "cell_type": "code",
   "execution_count": 45,
   "metadata": {},
   "outputs": [],
   "source": [
    "#merra['han'] = ((merra.PBLH[(merra['lat'] == 32.75) & (merra['lon'] == 78.75)])*0.0625) + ((merra.PBLH[(merra['lat'] == 32.75) & (merra['lon'] == 79.0625)]*0.25))/(0.0625+0.25)"
   ]
  },
  {
   "cell_type": "code",
   "execution_count": 7,
   "metadata": {},
   "outputs": [],
   "source": [
    "han_1 = ((merra.PBLH[(merra['lat'] == 32.75) & (merra['lon'] == 78.75)])*0.0625).values\n",
    "han_2 = ((merra.PBLH[(merra['lat'] == 32.75) & (merra['lon'] == 79.0625)]*0.25)).values\n",
    "division_factor_for_interpolation = 0.0625 + 0.25"
   ]
  },
  {
   "cell_type": "code",
   "execution_count": 8,
   "metadata": {},
   "outputs": [],
   "source": [
    "mer_1 = ((merra.PBLH[(merra['lat'] == 33.75) & (merra['lon'] == 78.4375)])*0.25).values\n",
    "mer_2 = ((merra.PBLH[(merra['lat'] == 33.75) & (merra['lon'] == 78.75)]*0.0625)).values\n",
    "division_factor_for_interpolation = 0.0625 + 0.25"
   ]
  },
  {
   "cell_type": "code",
   "execution_count": 9,
   "metadata": {},
   "outputs": [],
   "source": [
    "interpolated_han_79_E = np.add(han_1, han_2)/division_factor_for_interpolation\n",
    "interpolated_mer_78_dot_5_E = np.add(mer_1, mer_2)/division_factor_for_interpolation"
   ]
  },
  {
   "cell_type": "code",
   "execution_count": 10,
   "metadata": {},
   "outputs": [],
   "source": [
    "\n",
    "date = pd.Series(merra['time'].unique()).apply(lambda x:x.date())\n",
    "#unique attribute gives unique items from pd series in the same order\n"
   ]
  },
  {
   "cell_type": "code",
   "execution_count": 11,
   "metadata": {},
   "outputs": [],
   "source": [
    "time = pd.Series(merra['time'].unique()).apply(lambda x:x.time())"
   ]
  },
  {
   "cell_type": "code",
   "execution_count": 15,
   "metadata": {},
   "outputs": [],
   "source": [
    "final = pd.DataFrame(columns=['date','time','han_pblh','mer_pblh'],index = range(0,time.shape[0]))"
   ]
  },
  {
   "cell_type": "code",
   "execution_count": 16,
   "metadata": {},
   "outputs": [],
   "source": [
    "final['time'] = time\n",
    "final['date'] = date\n",
    "final['han_pblh'] = interpolated_han_79_E/1000\n",
    "final['mer_pblh'] = interpolated_mer_78_dot_5_E/1000"
   ]
  },
  {
   "cell_type": "code",
   "execution_count": 71,
   "metadata": {},
   "outputs": [],
   "source": [
    "final.to_csv('D:/Codes/IIA Project/Output Data/merra_full.txt',index = False,sep = '\\t',columns=['date','time','han_pblh','mer_pblh'])"
   ]
  },
  {
   "cell_type": "code",
   "execution_count": 19,
   "metadata": {},
   "outputs": [],
   "source": [
    "final_nighttime = final[lambda df: (df.time >= datetime.strptime('18:00:00','%H:%M:%S').time()) | (df.time <= datetime.strptime('06:00:00','%H:%M:%S').time())]\n",
    "final_daytime = final[lambda df: (df.time < datetime.strptime('18:00:00','%H:%M:%S').time()) & (df.time >= datetime.strptime('06:00:00','%H:%M:%S').time())]"
   ]
  },
  {
   "cell_type": "code",
   "execution_count": 21,
   "metadata": {},
   "outputs": [],
   "source": [
    "avg_daytime = final_daytime[['date','han_pblh','mer_pblh']].groupby(['date']).mean()\n",
    "avg_nighttime = final_nighttime[['date','han_pblh','mer_pblh']].groupby(['date']).mean()"
   ]
  },
  {
   "cell_type": "code",
   "execution_count": 20,
   "metadata": {},
   "outputs": [],
   "source": [
    "avg_daily = final[['date','han_pblh','mer_pblh']].groupby(['date']).agg('mean')\n",
    "median_daily = final.groupby(['date']).agg('median')\n",
    "median_daytime = final_daytime.groupby(['date']).median()\n",
    "median_nighttime = final_nighttime.groupby(['date']).median()"
   ]
  },
  {
   "cell_type": "code",
   "execution_count": 70,
   "metadata": {},
   "outputs": [],
   "source": [
    "avg_daily.to_csv('D:/Codes/IIA Project/Output Data/merra_daily_avg.txt',sep='\\t')\n",
    "avg_daytime.to_csv('D:/Codes/IIA Project/Output Data/merra_daytime_avg.txt',sep='\\t')\n",
    "avg_nighttime.to_csv('D:/Codes/IIA Project/Output Data/merra_nighttime_avg.txt',sep='\\t')"
   ]
  },
  {
   "cell_type": "code",
   "execution_count": 22,
   "metadata": {},
   "outputs": [],
   "source": [
    "merra_daily = pd.merge(avg_daily,median_daily,how='inner',left_index=True,right_index=True,suffixes=('_avg','_median'))\n",
    "merra_daytime = pd.merge(avg_daytime,median_daytime,how='inner',left_index=True,right_index=True,suffixes=('_avg','_median'))\n",
    "merra_nighttime = pd.merge(avg_nighttime,median_nighttime,how='inner',left_index=True,right_index=True,suffixes=('_avg','_median'))"
   ]
  },
  {
   "cell_type": "code",
   "execution_count": 23,
   "metadata": {},
   "outputs": [],
   "source": [
    "merra_daily.to_csv('D:/Codes/IIA Project/Output Data/merra_daily.txt',sep='\\t')\n",
    "merra_daytime.to_csv('D:/Codes/IIA Project/Output Data/merra_daytime.txt',sep='\\t')\n",
    "merra_nighttime.to_csv('D:/Codes/IIA Project/Output Data/merra_nighttime.txt',sep='\\t')"
   ]
  },
  {
   "cell_type": "code",
   "execution_count": 24,
   "metadata": {},
   "outputs": [],
   "source": [
    "final['year'] = final['date'].apply(lambda x: x.year)\n",
    "final['month'] = final['date'].apply(lambda x: x.month)"
   ]
  },
  {
   "cell_type": "code",
   "execution_count": 25,
   "metadata": {},
   "outputs": [],
   "source": [
    "avg_monthly = final.groupby(['year','month']).mean().reset_index([0,1])\n",
    "median_monthly = final.group"
   ]
  },
  {
   "cell_type": "code",
   "execution_count": 68,
   "metadata": {},
   "outputs": [],
   "source": [
    "avg_monthly.to_csv('D:/Codes/IIA Project/Output Data/merra_monthly_avg.txt',sep='\\t',index=False)"
   ]
  },
  {
   "cell_type": "code",
   "execution_count": null,
   "metadata": {},
   "outputs": [],
   "source": []
  }
 ],
 "metadata": {
  "kernelspec": {
   "display_name": "IIA",
   "language": "python",
   "name": "iia"
  },
  "language_info": {
   "codemirror_mode": {
    "name": "ipython",
    "version": 3
   },
   "file_extension": ".py",
   "mimetype": "text/x-python",
   "name": "python",
   "nbconvert_exporter": "python",
   "pygments_lexer": "ipython3",
   "version": "3.9.7"
  }
 },
 "nbformat": 4,
 "nbformat_minor": 2
}
