{
 "cells": [
  {
   "cell_type": "code",
   "execution_count": 1,
   "metadata": {},
   "outputs": [],
   "source": [
    "import numpy as np\n",
    "import pandas as pd\n",
    "import netCDF4\n",
    "from netCDF4 import Dataset\n",
    "from netCDF4 import MFDataset\n",
    "import datetime\n",
    "from pathlib import Path\n",
    "import xarray as xr\n",
    "from datetime import datetime"
   ]
  },
  {
   "cell_type": "code",
   "execution_count": 2,
   "metadata": {},
   "outputs": [],
   "source": [
    "era5_down_test = xr.open_dataset('hanle.nc')"
   ]
  },
  {
   "cell_type": "code",
   "execution_count": 3,
   "metadata": {},
   "outputs": [],
   "source": [
    "era5_down_test = era5_down_test.to_dataframe()"
   ]
  },
  {
   "cell_type": "code",
   "execution_count": 4,
   "metadata": {},
   "outputs": [
    {
     "data": {
      "text/html": [
       "<div>\n",
       "<style scoped>\n",
       "    .dataframe tbody tr th:only-of-type {\n",
       "        vertical-align: middle;\n",
       "    }\n",
       "\n",
       "    .dataframe tbody tr th {\n",
       "        vertical-align: top;\n",
       "    }\n",
       "\n",
       "    .dataframe thead th {\n",
       "        text-align: right;\n",
       "    }\n",
       "</style>\n",
       "<table border=\"1\" class=\"dataframe\">\n",
       "  <thead>\n",
       "    <tr style=\"text-align: right;\">\n",
       "      <th></th>\n",
       "      <th></th>\n",
       "      <th></th>\n",
       "      <th>blh</th>\n",
       "    </tr>\n",
       "    <tr>\n",
       "      <th>latitude</th>\n",
       "      <th>longitude</th>\n",
       "      <th>time</th>\n",
       "      <th></th>\n",
       "    </tr>\n",
       "  </thead>\n",
       "  <tbody>\n",
       "    <tr>\n",
       "      <th rowspan=\"10\" valign=\"top\">32.75</th>\n",
       "      <th rowspan=\"10\" valign=\"top\">79.0</th>\n",
       "      <th>1980-12-01 14:00:00</th>\n",
       "      <td>77.629639</td>\n",
       "    </tr>\n",
       "    <tr>\n",
       "      <th>1980-12-01 15:00:00</th>\n",
       "      <td>36.145996</td>\n",
       "    </tr>\n",
       "    <tr>\n",
       "      <th>1980-12-01 16:00:00</th>\n",
       "      <td>37.535400</td>\n",
       "    </tr>\n",
       "    <tr>\n",
       "      <th>1980-12-01 17:00:00</th>\n",
       "      <td>39.784912</td>\n",
       "    </tr>\n",
       "    <tr>\n",
       "      <th>1980-12-01 18:00:00</th>\n",
       "      <td>44.813232</td>\n",
       "    </tr>\n",
       "    <tr>\n",
       "      <th>1980-12-01 19:00:00</th>\n",
       "      <td>51.627930</td>\n",
       "    </tr>\n",
       "    <tr>\n",
       "      <th>1980-12-01 20:00:00</th>\n",
       "      <td>57.516357</td>\n",
       "    </tr>\n",
       "    <tr>\n",
       "      <th>1980-12-01 21:00:00</th>\n",
       "      <td>60.493652</td>\n",
       "    </tr>\n",
       "    <tr>\n",
       "      <th>1980-12-01 22:00:00</th>\n",
       "      <td>57.317871</td>\n",
       "    </tr>\n",
       "    <tr>\n",
       "      <th>1980-12-01 23:00:00</th>\n",
       "      <td>59.170410</td>\n",
       "    </tr>\n",
       "  </tbody>\n",
       "</table>\n",
       "</div>"
      ],
      "text/plain": [
       "                                              blh\n",
       "latitude longitude time                          \n",
       "32.75    79.0      1980-12-01 14:00:00  77.629639\n",
       "                   1980-12-01 15:00:00  36.145996\n",
       "                   1980-12-01 16:00:00  37.535400\n",
       "                   1980-12-01 17:00:00  39.784912\n",
       "                   1980-12-01 18:00:00  44.813232\n",
       "                   1980-12-01 19:00:00  51.627930\n",
       "                   1980-12-01 20:00:00  57.516357\n",
       "                   1980-12-01 21:00:00  60.493652\n",
       "                   1980-12-01 22:00:00  57.317871\n",
       "                   1980-12-01 23:00:00  59.170410"
      ]
     },
     "execution_count": 4,
     "metadata": {},
     "output_type": "execute_result"
    }
   ],
   "source": [
    "era5_down_test.tail(10)"
   ]
  },
  {
   "cell_type": "code",
   "execution_count": 5,
   "metadata": {},
   "outputs": [],
   "source": [
    "#data_folder = Path('Project Data/3.ERA5/')\n",
    "era = xr.open_mfdataset('D:/Codes/IIA Project/Project Data/3.ERA5/*Hanle.nc')\n",
    "eram= xr.open_mfdataset('D:/Codes/IIA Project/Project Data/3.ERA5/*Merak.nc')\n"
   ]
  },
  {
   "cell_type": "code",
   "execution_count": 6,
   "metadata": {},
   "outputs": [],
   "source": [
    "era_h = era.to_dataframe().reset_index()"
   ]
  },
  {
   "cell_type": "code",
   "execution_count": 7,
   "metadata": {},
   "outputs": [],
   "source": [
    "era_m = eram.to_dataframe().reset_index()"
   ]
  },
  {
   "cell_type": "code",
   "execution_count": 8,
   "metadata": {},
   "outputs": [],
   "source": [
    "erai5 = pd.DataFrame(columns = ['date','time','hanle_pblh_era5','merak_pblh_era5'])"
   ]
  },
  {
   "cell_type": "code",
   "execution_count": 9,
   "metadata": {},
   "outputs": [],
   "source": [
    "erai5['time'] = era_h['time'].apply(lambda x:x.time())\n",
    "erai5['date'] = era_h['time'].apply(lambda x:x.date())"
   ]
  },
  {
   "cell_type": "code",
   "execution_count": 10,
   "metadata": {},
   "outputs": [],
   "source": [
    "erai5['hanle_pblh_era5'] = era_h['blh']/1000\n",
    "erai5['merak_pblh_era5'] = era_m['blh']/1000\n",
    "#erai5['hanle_pblh'] = np.ravel(era['blh'])\n",
    "#erai5['merak_pblh'] = np.ravel(eram['blh'])"
   ]
  },
  {
   "cell_type": "code",
   "execution_count": 11,
   "metadata": {},
   "outputs": [
    {
     "data": {
      "text/html": [
       "<div>\n",
       "<style scoped>\n",
       "    .dataframe tbody tr th:only-of-type {\n",
       "        vertical-align: middle;\n",
       "    }\n",
       "\n",
       "    .dataframe tbody tr th {\n",
       "        vertical-align: top;\n",
       "    }\n",
       "\n",
       "    .dataframe thead th {\n",
       "        text-align: right;\n",
       "    }\n",
       "</style>\n",
       "<table border=\"1\" class=\"dataframe\">\n",
       "  <thead>\n",
       "    <tr style=\"text-align: right;\">\n",
       "      <th></th>\n",
       "      <th>date</th>\n",
       "      <th>time</th>\n",
       "      <th>hanle_pblh_era5</th>\n",
       "      <th>merak_pblh_era5</th>\n",
       "    </tr>\n",
       "  </thead>\n",
       "  <tbody>\n",
       "    <tr>\n",
       "      <th>0</th>\n",
       "      <td>1979-01-01</td>\n",
       "      <td>00:00:00</td>\n",
       "      <td>0.029268</td>\n",
       "      <td>0.037020</td>\n",
       "    </tr>\n",
       "    <tr>\n",
       "      <th>1</th>\n",
       "      <td>1979-01-01</td>\n",
       "      <td>01:00:00</td>\n",
       "      <td>0.025694</td>\n",
       "      <td>0.033325</td>\n",
       "    </tr>\n",
       "  </tbody>\n",
       "</table>\n",
       "</div>"
      ],
      "text/plain": [
       "         date      time  hanle_pblh_era5  merak_pblh_era5\n",
       "0  1979-01-01  00:00:00         0.029268         0.037020\n",
       "1  1979-01-01  01:00:00         0.025694         0.033325"
      ]
     },
     "execution_count": 11,
     "metadata": {},
     "output_type": "execute_result"
    }
   ],
   "source": [
    "erai5.head(2)"
   ]
  },
  {
   "cell_type": "code",
   "execution_count": 20,
   "metadata": {},
   "outputs": [],
   "source": [
    "#erai4 = era.to_dataframe()\n",
    "\n",
    "#Comments by Aswin\n",
    "# Why is this even required?\n",
    "# You could have done extraction of various date components with erai5 itself right?\n",
    "#erai4 = erai5\n",
    "\n",
    "#erai4['Year'] = erai5.time.apply(lambda x: x.year)\n",
    "#erai4['Month'] = erai5.time.apply(lambda x: x.month)\n",
    "#erai4['Day'] = erai5.time.apply(lambda x: x.day)\n",
    "#erai4['Hour'] = erai5.time.apply(lambda x: x.hour)\n",
    "#apply function works only columnwise by default\n",
    "\n",
    "#erai4 = erai4.drop('time',axis=1)\n",
    "# Comment by Aswin\n",
    "# You can just use the statement below\n",
    "# del erai4[\"time\"]"
   ]
  },
  {
   "cell_type": "code",
   "execution_count": 12,
   "metadata": {},
   "outputs": [],
   "source": [
    "erai5.to_csv('D:/Codes/IIA Project/Output Data/erai5_full.txt',sep = '\\t',index=False)"
   ]
  },
  {
   "cell_type": "code",
   "execution_count": 9,
   "metadata": {},
   "outputs": [],
   "source": [
    "avg_daily = erai5[['date','hanle_pblh_era5','merak_pblh_era5']].groupby(['date']).agg('mean')\n",
    "median_daily = erai5[['date','hanle_pblh_era5','merak_pblh_era5']].groupby(['date']).agg('median')"
   ]
  },
  {
   "cell_type": "code",
   "execution_count": 12,
   "metadata": {},
   "outputs": [],
   "source": [
    "era5_daily = pd.merge(avg_daily,median_daily,left_index=True,right_index=True,suffixes=('_avg','_median'))"
   ]
  },
  {
   "cell_type": "code",
   "execution_count": 15,
   "metadata": {},
   "outputs": [],
   "source": [
    "erai5_daytime = erai5[(erai5['time'] >= datetime.strptime('06:00:00','%H:%M:%S').time()) & (erai5['time'] < datetime.strptime('18:00:00','%H:%M:%S').time())]"
   ]
  },
  {
   "cell_type": "code",
   "execution_count": 13,
   "metadata": {},
   "outputs": [
    {
     "data": {
      "text/html": [
       "<div>\n",
       "<style scoped>\n",
       "    .dataframe tbody tr th:only-of-type {\n",
       "        vertical-align: middle;\n",
       "    }\n",
       "\n",
       "    .dataframe tbody tr th {\n",
       "        vertical-align: top;\n",
       "    }\n",
       "\n",
       "    .dataframe thead th {\n",
       "        text-align: right;\n",
       "    }\n",
       "</style>\n",
       "<table border=\"1\" class=\"dataframe\">\n",
       "  <thead>\n",
       "    <tr style=\"text-align: right;\">\n",
       "      <th></th>\n",
       "      <th>hanle_pblh_era5_avg</th>\n",
       "      <th>merak_pblh_era5_avg</th>\n",
       "      <th>hanle_pblh_era5_median</th>\n",
       "      <th>merak_pblh_era5_median</th>\n",
       "    </tr>\n",
       "    <tr>\n",
       "      <th>date</th>\n",
       "      <th></th>\n",
       "      <th></th>\n",
       "      <th></th>\n",
       "      <th></th>\n",
       "    </tr>\n",
       "  </thead>\n",
       "  <tbody>\n",
       "    <tr>\n",
       "      <th>1979-01-01</th>\n",
       "      <td>0.143104</td>\n",
       "      <td>0.143104</td>\n",
       "      <td>0.026773</td>\n",
       "      <td>0.026773</td>\n",
       "    </tr>\n",
       "    <tr>\n",
       "      <th>1979-01-02</th>\n",
       "      <td>0.274187</td>\n",
       "      <td>0.274187</td>\n",
       "      <td>0.028391</td>\n",
       "      <td>0.028391</td>\n",
       "    </tr>\n",
       "  </tbody>\n",
       "</table>\n",
       "</div>"
      ],
      "text/plain": [
       "            hanle_pblh_era5_avg  merak_pblh_era5_avg  hanle_pblh_era5_median  \\\n",
       "date                                                                           \n",
       "1979-01-01             0.143104             0.143104                0.026773   \n",
       "1979-01-02             0.274187             0.274187                0.028391   \n",
       "\n",
       "            merak_pblh_era5_median  \n",
       "date                                \n",
       "1979-01-01                0.026773  \n",
       "1979-01-02                0.028391  "
      ]
     },
     "execution_count": 13,
     "metadata": {},
     "output_type": "execute_result"
    }
   ],
   "source": [
    "era5_daily.head(2)"
   ]
  },
  {
   "cell_type": "code",
   "execution_count": 14,
   "metadata": {},
   "outputs": [],
   "source": [
    "erai5_nighttime = erai5[(erai5['time'] < datetime.strptime('06:00:00','%H:%M:%S').time()) | (erai5['time'] >= datetime.strptime('18:00:00','%H:%M:%S').time())]"
   ]
  },
  {
   "cell_type": "code",
   "execution_count": 16,
   "metadata": {},
   "outputs": [],
   "source": [
    "avg_daytime = erai5_daytime.groupby('date').mean()\n",
    "avg_nighttime = erai5_nighttime.groupby('date').mean()\n",
    "median_daytime = erai5_daytime.groupby('date').median()\n",
    "median_nighttime= erai5_nighttime.groupby('date').median()"
   ]
  },
  {
   "cell_type": "code",
   "execution_count": 17,
   "metadata": {},
   "outputs": [],
   "source": [
    "era5_daytime = pd.merge(avg_daytime,median_daytime,left_index=True,right_index=True,suffixes=('_avg','_median'))\n",
    "era5_nighttime = pd.merge(avg_nighttime,median_nighttime,left_index=True,right_index=True,suffixes=('_avg','_median'))"
   ]
  },
  {
   "cell_type": "code",
   "execution_count": 40,
   "metadata": {},
   "outputs": [],
   "source": [
    "avg_daily.to_csv('D:/Codes/IIA Project/Output Data/era5_daily_avg.txt',sep='\\t')\n",
    "avg_daytime.to_csv('D:/Codes/IIA Project/Output Data/era5_daytime_avg.txt',sep='\\t')\n",
    "avg_nighttime.to_csv('D:/Codes/IIA Project/Output Data/era5_nighttime_avg.txt',sep='\\t')"
   ]
  },
  {
   "cell_type": "code",
   "execution_count": 18,
   "metadata": {},
   "outputs": [],
   "source": [
    "era5_daily.to_csv('D:/Codes/IIA Project/Output Data/era5_daily.txt',sep='\\t')\n",
    "era5_daytime.to_csv('D:/Codes/IIA Project/Output Data/era5_daytime.txt',sep='\\t')\n",
    "era5_nighttime.to_csv('D:/Codes/IIA Project/Output Data/era5_nighttime.txt',sep='\\t')"
   ]
  },
  {
   "cell_type": "code",
   "execution_count": 19,
   "metadata": {},
   "outputs": [],
   "source": [
    "erai5['year'] = erai5['date'].apply(lambda x:x.year)\n",
    "erai5['month'] = erai5['date'].apply(lambda x:x.month)"
   ]
  },
  {
   "cell_type": "code",
   "execution_count": 22,
   "metadata": {},
   "outputs": [],
   "source": [
    "avg_monthly = erai5.groupby(['year','month']).mean().reset_index([0,1])"
   ]
  },
  {
   "cell_type": "code",
   "execution_count": 20,
   "metadata": {},
   "outputs": [],
   "source": [
    "median_monthly = erai5.groupby(['year','month']).median().reset_index([0,1])"
   ]
  },
  {
   "cell_type": "code",
   "execution_count": 23,
   "metadata": {},
   "outputs": [],
   "source": [
    "era5_monthly = pd.merge(avg_monthly,median_monthly,how='inner',left_on=['year','month'],right_on=['year','month'],suffixes=('_avg','_median'))"
   ]
  },
  {
   "cell_type": "code",
   "execution_count": 50,
   "metadata": {},
   "outputs": [],
   "source": [
    "avg_monthly.to_csv('D:/Codes/IIA Project/Output Data/era5_monthly_avg.txt',sep='\\t',index=False)"
   ]
  },
  {
   "cell_type": "code",
   "execution_count": 25,
   "metadata": {},
   "outputs": [],
   "source": [
    "era5_monthly.to_csv('D:/Codes/IIA Project/Output Data/era5_monthly.txt',sep='\\t',index=False)"
   ]
  },
  {
   "cell_type": "code",
   "execution_count": 52,
   "metadata": {},
   "outputs": [],
   "source": [
    "avg_matching_date = avg_daily[datetime.strptime('2011-11-14','%Y-%m-%d').date():datetime.strptime('2013-03-26', '%Y-%m-%d').date()]"
   ]
  },
  {
   "cell_type": "code",
   "execution_count": 54,
   "metadata": {},
   "outputs": [],
   "source": [
    "seeing_data = pd.read_csv('merged_erai_seeing_han.csv', parse_dates = ['date'])"
   ]
  },
  {
   "cell_type": "code",
   "execution_count": 55,
   "metadata": {},
   "outputs": [],
   "source": [
    "seeing_data['date'] = seeing_data['date'].apply(lambda x: x.date())\n",
    "seeing_data.set_index('date',inplace=True)"
   ]
  },
  {
   "cell_type": "code",
   "execution_count": 61,
   "metadata": {},
   "outputs": [],
   "source": [
    "merged = pd.merge(seeing_data,avg_daily,how='left',left_index=True,right_index=True)"
   ]
  },
  {
   "cell_type": "code",
   "execution_count": 59,
   "metadata": {},
   "outputs": [
    {
     "data": {
      "text/html": [
       "<div>\n",
       "<style scoped>\n",
       "    .dataframe tbody tr th:only-of-type {\n",
       "        vertical-align: middle;\n",
       "    }\n",
       "\n",
       "    .dataframe tbody tr th {\n",
       "        vertical-align: top;\n",
       "    }\n",
       "\n",
       "    .dataframe thead th {\n",
       "        text-align: right;\n",
       "    }\n",
       "</style>\n",
       "<table border=\"1\" class=\"dataframe\">\n",
       "  <thead>\n",
       "    <tr style=\"text-align: right;\">\n",
       "      <th></th>\n",
       "      <th>hanle_pblh</th>\n",
       "      <th>merak_pblh</th>\n",
       "      <th>PT</th>\n",
       "      <th>See1</th>\n",
       "      <th>See2</th>\n",
       "      <th>std</th>\n",
       "      <th>hanle_pblh_era5</th>\n",
       "      <th>merak_pblh_era5</th>\n",
       "    </tr>\n",
       "    <tr>\n",
       "      <th>date</th>\n",
       "      <th></th>\n",
       "      <th></th>\n",
       "      <th></th>\n",
       "      <th></th>\n",
       "      <th></th>\n",
       "      <th></th>\n",
       "      <th></th>\n",
       "      <th></th>\n",
       "    </tr>\n",
       "  </thead>\n",
       "  <tbody>\n",
       "    <tr>\n",
       "      <th>2011-11-14</th>\n",
       "      <td>0.833101</td>\n",
       "      <td>916.589000</td>\n",
       "      <td>44</td>\n",
       "      <td>1.228</td>\n",
       "      <td>1.145</td>\n",
       "      <td>0.389</td>\n",
       "      <td>1.079512</td>\n",
       "      <td>1.079512</td>\n",
       "    </tr>\n",
       "    <tr>\n",
       "      <th>2011-11-15</th>\n",
       "      <td>0.783074</td>\n",
       "      <td>845.967650</td>\n",
       "      <td>1</td>\n",
       "      <td>1.060</td>\n",
       "      <td>1.060</td>\n",
       "      <td>0.000</td>\n",
       "      <td>0.982901</td>\n",
       "      <td>0.982901</td>\n",
       "    </tr>\n",
       "    <tr>\n",
       "      <th>2011-11-16</th>\n",
       "      <td>0.547636</td>\n",
       "      <td>578.767330</td>\n",
       "      <td>9</td>\n",
       "      <td>1.231</td>\n",
       "      <td>1.270</td>\n",
       "      <td>0.114</td>\n",
       "      <td>0.841915</td>\n",
       "      <td>0.841915</td>\n",
       "    </tr>\n",
       "    <tr>\n",
       "      <th>2011-11-18</th>\n",
       "      <td>0.417248</td>\n",
       "      <td>432.263200</td>\n",
       "      <td>193</td>\n",
       "      <td>1.208</td>\n",
       "      <td>1.200</td>\n",
       "      <td>0.186</td>\n",
       "      <td>1.026768</td>\n",
       "      <td>1.026768</td>\n",
       "    </tr>\n",
       "    <tr>\n",
       "      <th>2011-11-19</th>\n",
       "      <td>0.375089</td>\n",
       "      <td>186.438460</td>\n",
       "      <td>151</td>\n",
       "      <td>1.133</td>\n",
       "      <td>1.110</td>\n",
       "      <td>0.164</td>\n",
       "      <td>0.897806</td>\n",
       "      <td>0.897806</td>\n",
       "    </tr>\n",
       "    <tr>\n",
       "      <th>2011-11-20</th>\n",
       "      <td>0.378447</td>\n",
       "      <td>126.010650</td>\n",
       "      <td>259</td>\n",
       "      <td>1.106</td>\n",
       "      <td>1.090</td>\n",
       "      <td>0.148</td>\n",
       "      <td>0.754552</td>\n",
       "      <td>0.754552</td>\n",
       "    </tr>\n",
       "    <tr>\n",
       "      <th>2011-11-21</th>\n",
       "      <td>0.251490</td>\n",
       "      <td>49.458130</td>\n",
       "      <td>265</td>\n",
       "      <td>0.988</td>\n",
       "      <td>0.970</td>\n",
       "      <td>0.131</td>\n",
       "      <td>0.444922</td>\n",
       "      <td>0.444922</td>\n",
       "    </tr>\n",
       "    <tr>\n",
       "      <th>2011-11-22</th>\n",
       "      <td>0.270785</td>\n",
       "      <td>41.177948</td>\n",
       "      <td>258</td>\n",
       "      <td>1.336</td>\n",
       "      <td>1.330</td>\n",
       "      <td>0.403</td>\n",
       "      <td>0.464491</td>\n",
       "      <td>0.464491</td>\n",
       "    </tr>\n",
       "    <tr>\n",
       "      <th>2011-11-23</th>\n",
       "      <td>0.244197</td>\n",
       "      <td>46.024810</td>\n",
       "      <td>159</td>\n",
       "      <td>2.017</td>\n",
       "      <td>1.990</td>\n",
       "      <td>0.541</td>\n",
       "      <td>0.633236</td>\n",
       "      <td>0.633236</td>\n",
       "    </tr>\n",
       "    <tr>\n",
       "      <th>2011-11-24</th>\n",
       "      <td>0.344053</td>\n",
       "      <td>78.423130</td>\n",
       "      <td>164</td>\n",
       "      <td>1.319</td>\n",
       "      <td>1.315</td>\n",
       "      <td>0.186</td>\n",
       "      <td>0.876047</td>\n",
       "      <td>0.876047</td>\n",
       "    </tr>\n",
       "  </tbody>\n",
       "</table>\n",
       "</div>"
      ],
      "text/plain": [
       "            hanle_pblh  merak_pblh   PT   See1   See2    std  hanle_pblh_era5  \\\n",
       "date                                                                            \n",
       "2011-11-14    0.833101  916.589000   44  1.228  1.145  0.389         1.079512   \n",
       "2011-11-15    0.783074  845.967650    1  1.060  1.060  0.000         0.982901   \n",
       "2011-11-16    0.547636  578.767330    9  1.231  1.270  0.114         0.841915   \n",
       "2011-11-18    0.417248  432.263200  193  1.208  1.200  0.186         1.026768   \n",
       "2011-11-19    0.375089  186.438460  151  1.133  1.110  0.164         0.897806   \n",
       "2011-11-20    0.378447  126.010650  259  1.106  1.090  0.148         0.754552   \n",
       "2011-11-21    0.251490   49.458130  265  0.988  0.970  0.131         0.444922   \n",
       "2011-11-22    0.270785   41.177948  258  1.336  1.330  0.403         0.464491   \n",
       "2011-11-23    0.244197   46.024810  159  2.017  1.990  0.541         0.633236   \n",
       "2011-11-24    0.344053   78.423130  164  1.319  1.315  0.186         0.876047   \n",
       "\n",
       "            merak_pblh_era5  \n",
       "date                         \n",
       "2011-11-14         1.079512  \n",
       "2011-11-15         0.982901  \n",
       "2011-11-16         0.841915  \n",
       "2011-11-18         1.026768  \n",
       "2011-11-19         0.897806  \n",
       "2011-11-20         0.754552  \n",
       "2011-11-21         0.444922  \n",
       "2011-11-22         0.464491  \n",
       "2011-11-23         0.633236  \n",
       "2011-11-24         0.876047  "
      ]
     },
     "execution_count": 59,
     "metadata": {},
     "output_type": "execute_result"
    }
   ],
   "source": [
    "merged.head(10)"
   ]
  },
  {
   "cell_type": "code",
   "execution_count": 62,
   "metadata": {},
   "outputs": [
    {
     "data": {
      "text/plain": [
       "<matplotlib.axes._subplots.AxesSubplot at 0x2053a094438>"
      ]
     },
     "execution_count": 62,
     "metadata": {},
     "output_type": "execute_result"
    }
   ],
   "source": [
    "merged.plot( y = ['hanle_pblh','See2','hanle_pblh_era5'],figsize=(20,10))"
   ]
  },
  {
   "cell_type": "code",
   "execution_count": null,
   "metadata": {},
   "outputs": [],
   "source": []
  }
 ],
 "metadata": {
  "kernelspec": {
   "display_name": "IIA",
   "language": "python",
   "name": "iia"
  },
  "language_info": {
   "codemirror_mode": {
    "name": "ipython",
    "version": 3
   },
   "file_extension": ".py",
   "mimetype": "text/x-python",
   "name": "python",
   "nbconvert_exporter": "python",
   "pygments_lexer": "ipython3",
   "version": "3.9.7"
  }
 },
 "nbformat": 4,
 "nbformat_minor": 2
}
