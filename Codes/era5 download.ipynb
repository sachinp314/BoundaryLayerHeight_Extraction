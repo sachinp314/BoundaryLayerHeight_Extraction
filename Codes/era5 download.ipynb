{
 "cells": [
  {
   "cell_type": "code",
   "execution_count": 11,
   "metadata": {},
   "outputs": [],
   "source": [
    "import cdsapi\n",
    "\n",
    "c = cdsapi.Client()"
   ]
  },
  {
   "cell_type": "code",
   "execution_count": 13,
   "metadata": {},
   "outputs": [
    {
     "name": "stderr",
     "output_type": "stream",
     "text": [
      "2019-06-19 21:44:48,496 INFO Sending request to https://cds.climate.copernicus.eu/api/v2/resources/reanalysis-era5-single-levels-monthly-means\n",
      "2019-06-19 21:44:48,664 INFO Request is queued\n",
      "2019-06-20 00:12:13,319 INFO Request is running\n",
      "2019-06-20 00:14:14,252 INFO Request is completed\n",
      "2019-06-20 00:14:14,259 INFO Downloading http://136.156.132.210/cache-compute-0005/cache/data1/adaptor.mars.internal-1560969710.3472393-19153-19-19278124-4758-4521-9aaa-da7735237ba9.nc to hanle.nc (4.4K)\n",
      "2019-06-20 00:14:14,769 INFO Download rate 8.7K/s\n"
     ]
    },
    {
     "data": {
      "text/plain": [
       "Result(content_length=4524,content_type=application/x-netcdf,location=http://136.156.132.210/cache-compute-0005/cache/data1/adaptor.mars.internal-1560969710.3472393-19153-19-19278124-4758-4521-9aaa-da7735237ba9.nc)"
      ]
     },
     "execution_count": 13,
     "metadata": {},
     "output_type": "execute_result"
    }
   ],
   "source": [
    "\n",
    "c.retrieve(\n",
    "    'reanalysis-era5-single-levels-monthly-means',\n",
    "    {\n",
    "        'format':'netcdf',\n",
    "        'area':'32.75/79.00/32.75/79.00',\n",
    "        'product_type':'reanalysis',        \n",
    "        'month':[\n",
    "            '01','02','03',\n",
    "            '04','05','06',\n",
    "            '07','08','09',\n",
    "            '10','11','12'\n",
    "        ],\n",
    "        'year' : [\n",
    "            '1979','1980'\n",
    "        ],\n",
    "        'time':[\n",
    "            '00:00','01:00','02:00',\n",
    "            '03:00','04:00','05:00',\n",
    "            '06:00','07:00','08:00',\n",
    "            '09:00','10:00','11:00',\n",
    "            '12:00','13:00','14:00',\n",
    "            '15:00','16:00','17:00',\n",
    "            '18:00','19:00','20:00',\n",
    "            '21:00','22:00','23:00'\n",
    "        ],\n",
    "        'variable':'boundary_layer_height'\n",
    "    },\n",
    "    'hanle.nc')"
   ]
  },
  {
   "cell_type": "code",
   "execution_count": 14,
   "metadata": {},
   "outputs": [],
   "source": [
    "#instead put year outside and call it a list.\n",
    "#for loop over i in year and put year:i in retrieve and store it as i append hanle.nc\n",
    "#you can get separate files for each year that way"
   ]
  },
  {
   "cell_type": "code",
   "execution_count": null,
   "metadata": {},
   "outputs": [],
   "source": []
  }
 ],
 "metadata": {
  "kernelspec": {
   "display_name": "Python 2",
   "language": "python",
   "name": "python2"
  },
  "language_info": {
   "codemirror_mode": {
    "name": "ipython",
    "version": 2
   },
   "file_extension": ".py",
   "mimetype": "text/x-python",
   "name": "python",
   "nbconvert_exporter": "python",
   "pygments_lexer": "ipython2",
   "version": "2.7.16"
  }
 },
 "nbformat": 4,
 "nbformat_minor": 2
}
