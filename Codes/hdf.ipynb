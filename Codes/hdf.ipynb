{
 "cells": [
  {
   "cell_type": "code",
   "execution_count": 5,
   "metadata": {},
   "outputs": [],
   "source": [
    "import pandas as pd\n",
    "import numpy as np\n",
    "import tables\n",
    "from pyhdf import SD"
   ]
  },
  {
   "cell_type": "code",
   "execution_count": 7,
   "metadata": {},
   "outputs": [],
   "source": [
    "hdf  = SD.SD('../Project Data/CALIPSO/TEst/CAL_LID_L2_333mCLay-ValStage1-V3-02.2013-02-26T23-29-39ZD.hdf')"
   ]
  },
  {
   "cell_type": "code",
   "execution_count": 8,
   "metadata": {},
   "outputs": [
    {
     "data": {
      "text/plain": [
       "{'Profile_ID': (('fakeDim0', 'fakeDim1'), (37920, 1), 24, 0),\n",
       " 'Latitude': (('fakeDim2', 'fakeDim3'), (37920, 1), 5, 1),\n",
       " 'Longitude': (('fakeDim4', 'fakeDim5'), (37920, 1), 5, 2),\n",
       " 'Profile_Time': (('fakeDim6', 'fakeDim7'), (37920, 1), 6, 3),\n",
       " 'Profile_UTC_Time': (('fakeDim8', 'fakeDim9'), (37920, 1), 6, 4),\n",
       " 'Day_Night_Flag': (('fakeDim10', 'fakeDim11'), (37920, 1), 20, 5),\n",
       " 'Off_Nadir_Angle': (('fakeDim12', 'fakeDim13'), (37920, 1), 5, 6),\n",
       " 'Solar_Zenith_Angle': (('fakeDim14', 'fakeDim15'), (37920, 1), 5, 7),\n",
       " 'Solar_Azimuth_Angle': (('fakeDim16', 'fakeDim17'), (37920, 1), 5, 8),\n",
       " 'Scattering_Angle': (('fakeDim18', 'fakeDim19'), (37920, 1), 5, 9),\n",
       " 'Spacecraft_Position': (('fakeDim20', 'fakeDim21'), (37920, 3), 6, 10),\n",
       " 'Parallel_Column_Reflectance_532': (('fakeDim22', 'fakeDim23'),\n",
       "  (37920, 1),\n",
       "  5,\n",
       "  11),\n",
       " 'Parallel_Column_Reflectance_Uncertainty_532': (('fakeDim24', 'fakeDim25'),\n",
       "  (37920, 1),\n",
       "  5,\n",
       "  12),\n",
       " 'Perpendicular_Column_Reflectance_532': (('fakeDim26', 'fakeDim27'),\n",
       "  (37920, 1),\n",
       "  5,\n",
       "  13),\n",
       " 'Perpendicular_Column_Reflectance_Uncertainty_532': (('fakeDim28',\n",
       "   'fakeDim29'),\n",
       "  (37920, 1),\n",
       "  5,\n",
       "  14),\n",
       " 'Column_Integrated_Attenuated_Backscatter_532': (('fakeDim30', 'fakeDim31'),\n",
       "  (37920, 1),\n",
       "  5,\n",
       "  15),\n",
       " 'Column_IAB_Cumulative_Probability': (('fakeDim32', 'fakeDim33'),\n",
       "  (37920, 1),\n",
       "  5,\n",
       "  16),\n",
       " 'Tropopause_Height': (('fakeDim34', 'fakeDim35'), (37920, 1), 5, 17),\n",
       " 'Tropopause_Temperature': (('fakeDim36', 'fakeDim37'), (37920, 1), 5, 18),\n",
       " 'IGBP_Surface_Type': (('fakeDim38', 'fakeDim39'), (37920, 1), 20, 19),\n",
       " 'NSIDC_Surface_Type': (('fakeDim40', 'fakeDim41'), (37920, 1), 21, 20),\n",
       " 'Lidar_Surface_Elevation': (('fakeDim42', 'fakeDim43'), (37920, 2), 5, 21),\n",
       " 'DEM_Surface_Elevation': (('fakeDim44', 'fakeDim45'), (37920, 1), 5, 22),\n",
       " 'Number_Layers_Found': (('fakeDim46', 'fakeDim47'), (37920, 1), 20, 23),\n",
       " 'Layer_Top_Altitude': (('fakeDim48', 'fakeDim49'), (37920, 5), 5, 24),\n",
       " 'Layer_Base_Altitude': (('fakeDim50', 'fakeDim51'), (37920, 5), 5, 25),\n",
       " 'Layer_Top_Pressure': (('fakeDim52', 'fakeDim53'), (37920, 5), 5, 26),\n",
       " 'Midlayer_Pressure': (('fakeDim54', 'fakeDim55'), (37920, 5), 5, 27),\n",
       " 'Layer_Base_Pressure': (('fakeDim56', 'fakeDim57'), (37920, 5), 5, 28),\n",
       " 'Layer_Top_Temperature': (('fakeDim58', 'fakeDim59'), (37920, 5), 5, 29),\n",
       " 'Midlayer_Temperature': (('fakeDim60', 'fakeDim61'), (37920, 5), 5, 30),\n",
       " 'Layer_Base_Temperature': (('fakeDim62', 'fakeDim63'), (37920, 5), 5, 31),\n",
       " 'Attenuated_Backscatter_Statistics_532': (('fakeDim64', 'fakeDim65'),\n",
       "  (37920, 30),\n",
       "  5,\n",
       "  32),\n",
       " 'Integrated_Attenuated_Backscatter_532': (('fakeDim66', 'fakeDim67'),\n",
       "  (37920, 5),\n",
       "  5,\n",
       "  33),\n",
       " 'Integrated_Attenuated_Backscatter_Uncertainty_532': (('fakeDim68',\n",
       "   'fakeDim69'),\n",
       "  (37920, 5),\n",
       "  5,\n",
       "  34),\n",
       " 'Attenuated_Backscatter_Statistics_1064': (('fakeDim70', 'fakeDim71'),\n",
       "  (37920, 30),\n",
       "  5,\n",
       "  35),\n",
       " 'Integrated_Attenuated_Backscatter_1064': (('fakeDim72', 'fakeDim73'),\n",
       "  (37920, 5),\n",
       "  5,\n",
       "  36),\n",
       " 'Integrated_Attenuated_Backscatter_Uncertainty_1064': (('fakeDim74',\n",
       "   'fakeDim75'),\n",
       "  (37920, 5),\n",
       "  5,\n",
       "  37),\n",
       " 'Volume_Depolarization_Ratio_Statistics': (('fakeDim76', 'fakeDim77'),\n",
       "  (37920, 30),\n",
       "  5,\n",
       "  38),\n",
       " 'Integrated_Volume_Depolarization_Ratio': (('fakeDim78', 'fakeDim79'),\n",
       "  (37920, 5),\n",
       "  5,\n",
       "  39),\n",
       " 'Integrated_Volume_Depolarization_Ratio_Uncertainty': (('fakeDim80',\n",
       "   'fakeDim81'),\n",
       "  (37920, 5),\n",
       "  5,\n",
       "  40),\n",
       " 'Attenuated_Total_Color_Ratio_Statistics': (('fakeDim82', 'fakeDim83'),\n",
       "  (37920, 30),\n",
       "  5,\n",
       "  41),\n",
       " 'Integrated_Attenuated_Total_Color_Ratio': (('fakeDim84', 'fakeDim85'),\n",
       "  (37920, 5),\n",
       "  5,\n",
       "  42),\n",
       " 'Integrated_Attenuated_Total_Color_Ratio_Uncertainty': (('fakeDim86',\n",
       "   'fakeDim87'),\n",
       "  (37920, 5),\n",
       "  5,\n",
       "  43),\n",
       " 'Overlying_Integrated_Attenuated_Backscatter_532': (('fakeDim88',\n",
       "   'fakeDim89'),\n",
       "  (37920, 5),\n",
       "  5,\n",
       "  44),\n",
       " 'Layer_IAB_QA_Factor': (('fakeDim90', 'fakeDim91'), (37920, 5), 5, 45),\n",
       " 'Feature_Classification_Flags': (('fakeDim92', 'fakeDim93'),\n",
       "  (37920, 5),\n",
       "  23,\n",
       "  46)}"
      ]
     },
     "execution_count": 8,
     "metadata": {},
     "output_type": "execute_result"
    }
   ],
   "source": [
    "hdf.datasets()"
   ]
  },
  {
   "cell_type": "code",
   "execution_count": 10,
   "metadata": {},
   "outputs": [
    {
     "ename": "OSError",
     "evalue": "Unable to open file (file signature not found)",
     "output_type": "error",
     "traceback": [
      "\u001b[1;31m---------------------------------------------------------------------------\u001b[0m",
      "\u001b[1;31mOSError\u001b[0m                                   Traceback (most recent call last)",
      "\u001b[1;32m<ipython-input-10-61ce2efcc6f6>\u001b[0m in \u001b[0;36m<module>\u001b[1;34m\u001b[0m\n\u001b[0;32m      1\u001b[0m \u001b[1;32mimport\u001b[0m \u001b[0mh5py\u001b[0m\u001b[1;33m\u001b[0m\u001b[1;33m\u001b[0m\u001b[0m\n\u001b[1;32m----> 2\u001b[1;33m \u001b[0mh5f\u001b[0m \u001b[1;33m=\u001b[0m \u001b[0mh5py\u001b[0m\u001b[1;33m.\u001b[0m\u001b[0mFile\u001b[0m\u001b[1;33m(\u001b[0m\u001b[1;34m\"../Project Data/CALIPSO/TEst/CAL_LID_L2_333mCLay-ValStage1-V3-02.2013-02-26T23-29-39ZD.hdf\"\u001b[0m\u001b[1;33m,\u001b[0m \u001b[1;34m\"r\"\u001b[0m\u001b[1;33m)\u001b[0m\u001b[1;33m\u001b[0m\u001b[1;33m\u001b[0m\u001b[0m\n\u001b[0m",
      "\u001b[1;32mD:\\Anaconda\\envs\\IIA\\lib\\site-packages\\h5py\\_hl\\files.py\u001b[0m in \u001b[0;36m__init__\u001b[1;34m(self, name, mode, driver, libver, userblock_size, swmr, rdcc_nslots, rdcc_nbytes, rdcc_w0, track_order, **kwds)\u001b[0m\n\u001b[0;32m    392\u001b[0m                 fid = make_fid(name, mode, userblock_size,\n\u001b[0;32m    393\u001b[0m                                \u001b[0mfapl\u001b[0m\u001b[1;33m,\u001b[0m \u001b[0mfcpl\u001b[0m\u001b[1;33m=\u001b[0m\u001b[0mmake_fcpl\u001b[0m\u001b[1;33m(\u001b[0m\u001b[0mtrack_order\u001b[0m\u001b[1;33m=\u001b[0m\u001b[0mtrack_order\u001b[0m\u001b[1;33m)\u001b[0m\u001b[1;33m,\u001b[0m\u001b[1;33m\u001b[0m\u001b[1;33m\u001b[0m\u001b[0m\n\u001b[1;32m--> 394\u001b[1;33m                                swmr=swmr)\n\u001b[0m\u001b[0;32m    395\u001b[0m \u001b[1;33m\u001b[0m\u001b[0m\n\u001b[0;32m    396\u001b[0m             \u001b[1;32mif\u001b[0m \u001b[0mswmr_support\u001b[0m\u001b[1;33m:\u001b[0m\u001b[1;33m\u001b[0m\u001b[1;33m\u001b[0m\u001b[0m\n",
      "\u001b[1;32mD:\\Anaconda\\envs\\IIA\\lib\\site-packages\\h5py\\_hl\\files.py\u001b[0m in \u001b[0;36mmake_fid\u001b[1;34m(name, mode, userblock_size, fapl, fcpl, swmr)\u001b[0m\n\u001b[0;32m    168\u001b[0m         \u001b[1;32mif\u001b[0m \u001b[0mswmr\u001b[0m \u001b[1;32mand\u001b[0m \u001b[0mswmr_support\u001b[0m\u001b[1;33m:\u001b[0m\u001b[1;33m\u001b[0m\u001b[1;33m\u001b[0m\u001b[0m\n\u001b[0;32m    169\u001b[0m             \u001b[0mflags\u001b[0m \u001b[1;33m|=\u001b[0m \u001b[0mh5f\u001b[0m\u001b[1;33m.\u001b[0m\u001b[0mACC_SWMR_READ\u001b[0m\u001b[1;33m\u001b[0m\u001b[1;33m\u001b[0m\u001b[0m\n\u001b[1;32m--> 170\u001b[1;33m         \u001b[0mfid\u001b[0m \u001b[1;33m=\u001b[0m \u001b[0mh5f\u001b[0m\u001b[1;33m.\u001b[0m\u001b[0mopen\u001b[0m\u001b[1;33m(\u001b[0m\u001b[0mname\u001b[0m\u001b[1;33m,\u001b[0m \u001b[0mflags\u001b[0m\u001b[1;33m,\u001b[0m \u001b[0mfapl\u001b[0m\u001b[1;33m=\u001b[0m\u001b[0mfapl\u001b[0m\u001b[1;33m)\u001b[0m\u001b[1;33m\u001b[0m\u001b[1;33m\u001b[0m\u001b[0m\n\u001b[0m\u001b[0;32m    171\u001b[0m     \u001b[1;32melif\u001b[0m \u001b[0mmode\u001b[0m \u001b[1;33m==\u001b[0m \u001b[1;34m'r+'\u001b[0m\u001b[1;33m:\u001b[0m\u001b[1;33m\u001b[0m\u001b[1;33m\u001b[0m\u001b[0m\n\u001b[0;32m    172\u001b[0m         \u001b[0mfid\u001b[0m \u001b[1;33m=\u001b[0m \u001b[0mh5f\u001b[0m\u001b[1;33m.\u001b[0m\u001b[0mopen\u001b[0m\u001b[1;33m(\u001b[0m\u001b[0mname\u001b[0m\u001b[1;33m,\u001b[0m \u001b[0mh5f\u001b[0m\u001b[1;33m.\u001b[0m\u001b[0mACC_RDWR\u001b[0m\u001b[1;33m,\u001b[0m \u001b[0mfapl\u001b[0m\u001b[1;33m=\u001b[0m\u001b[0mfapl\u001b[0m\u001b[1;33m)\u001b[0m\u001b[1;33m\u001b[0m\u001b[1;33m\u001b[0m\u001b[0m\n",
      "\u001b[1;32mh5py\\_objects.pyx\u001b[0m in \u001b[0;36mh5py._objects.with_phil.wrapper\u001b[1;34m()\u001b[0m\n",
      "\u001b[1;32mh5py\\_objects.pyx\u001b[0m in \u001b[0;36mh5py._objects.with_phil.wrapper\u001b[1;34m()\u001b[0m\n",
      "\u001b[1;32mh5py\\h5f.pyx\u001b[0m in \u001b[0;36mh5py.h5f.open\u001b[1;34m()\u001b[0m\n",
      "\u001b[1;31mOSError\u001b[0m: Unable to open file (file signature not found)"
     ]
    }
   ],
   "source": [
    "import h5py\n",
    "h5f = h5py.File(\"../Project Data/CALIPSO/TEst/CAL_LID_L2_333mCLay-ValStage1-V3-02.2013-02-26T23-29-39ZD.hdf\", \"r\")"
   ]
  },
  {
   "cell_type": "code",
   "execution_count": null,
   "metadata": {},
   "outputs": [],
   "source": []
  }
 ],
 "metadata": {
  "kernelspec": {
   "display_name": "IIA",
   "language": "python",
   "name": "iia"
  },
  "language_info": {
   "codemirror_mode": {
    "name": "ipython",
    "version": 3
   },
   "file_extension": ".py",
   "mimetype": "text/x-python",
   "name": "python",
   "nbconvert_exporter": "python",
   "pygments_lexer": "ipython3",
   "version": "3.9.7"
  }
 },
 "nbformat": 4,
 "nbformat_minor": 2
}
